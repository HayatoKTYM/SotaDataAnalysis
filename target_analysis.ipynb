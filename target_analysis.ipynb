{
 "cells": [
  {
   "cell_type": "code",
   "execution_count": 81,
   "metadata": {},
   "outputs": [
    {
     "name": "stdout",
     "output_type": "stream",
     "text": [
      "40 40\n"
     ]
    }
   ],
   "source": [
    "import pandas as pd\n",
    "import csv\n",
    "import numpy\n",
    "from glob import glob\n",
    "label = glob(\"../dataset/label_r1/*csv\")\n",
    "cam = glob(\"../dataset/cam_r1/*csv\")\n",
    "print(len(label),len(cam))\n",
    "del label[7]\n",
    "del cam[7]"
   ]
  },
  {
   "cell_type": "code",
   "execution_count": 80,
   "metadata": {},
   "outputs": [
    {
     "name": "stdout",
     "output_type": "stream",
     "text": [
      "../dataset/label_r1/20180614145705.label.csv\n",
      "7\n"
     ]
    }
   ],
   "source": [
    "df_list = []\n",
    "for a,b in zip(label,cam):\n",
    "    try:\n",
    "        df_a = pd.read_csv(a)\n",
    "        df_b = pd.read_csv(b)\n",
    "        df = pd.concat([df_a,df_b],axis=1)\n",
    "        df_list.append(df)\n",
    "    except:\n",
    "        print(a)\n",
    "        print(label.index(a))"
   ]
  },
  {
   "cell_type": "code",
   "execution_count": null,
   "metadata": {},
   "outputs": [],
   "source": []
  },
  {
   "cell_type": "code",
   "execution_count": 83,
   "metadata": {},
   "outputs": [
    {
     "name": "stdout",
     "output_type": "stream",
     "text": [
      "[ 4  5  6  7  8  9 10 11 12 13 14 15 16 17 18 19 20 21 22 23 24 25 26 27\n",
      " 28 29 30 31 32 33 34 35 36 37 38] [0 1 2 3]\n",
      "(8662, 700)\n"
     ]
    },
    {
     "name": "stderr",
     "output_type": "stream",
     "text": [
      "[Parallel(n_jobs=-1)]: Done  42 tasks      | elapsed:    0.7s\n",
      "[Parallel(n_jobs=-1)]: Done 100 out of 100 | elapsed:    1.6s finished\n"
     ]
    },
    {
     "name": "stdout",
     "output_type": "stream",
     "text": [
      "(1059, 700)\n",
      "             precision    recall  f1-score   support\n",
      "\n",
      "          A       0.83      0.58      0.68       570\n",
      "          B       0.64      0.86      0.73       489\n",
      "\n",
      "avg / total       0.74      0.71      0.71      1059\n",
      "\n"
     ]
    },
    {
     "name": "stderr",
     "output_type": "stream",
     "text": [
      "[Parallel(n_jobs=4)]: Done  42 tasks      | elapsed:    0.0s\n",
      "[Parallel(n_jobs=4)]: Done 100 out of 100 | elapsed:    0.0s finished\n",
      "[Parallel(n_jobs=4)]: Done  42 tasks      | elapsed:    0.0s\n",
      "[Parallel(n_jobs=4)]: Done 100 out of 100 | elapsed:    0.0s finished\n",
      "[Parallel(n_jobs=4)]: Done  42 tasks      | elapsed:    0.0s\n",
      "[Parallel(n_jobs=4)]: Done 100 out of 100 | elapsed:    0.0s finished\n"
     ]
    },
    {
     "name": "stdout",
     "output_type": "stream",
     "text": [
      "[[332 238]\n",
      " [ 70 419]]\n",
      "[ 0  1  2  3  8  9 10 11 12 13 14 15 16 17 18 19 20 21 22 23 24 25 26 27\n",
      " 28 29 30 31 32 33 34 35 36 37 38] [4 5 6 7]\n",
      "(8031, 700)\n"
     ]
    },
    {
     "name": "stderr",
     "output_type": "stream",
     "text": [
      "[Parallel(n_jobs=-1)]: Done  42 tasks      | elapsed:    0.5s\n",
      "[Parallel(n_jobs=-1)]: Done 100 out of 100 | elapsed:    1.1s finished\n"
     ]
    },
    {
     "name": "stdout",
     "output_type": "stream",
     "text": [
      "(1690, 700)\n",
      "             precision    recall  f1-score   support\n",
      "\n",
      "          A       0.88      0.77      0.82       748\n",
      "          B       0.83      0.92      0.87       942\n",
      "\n",
      "avg / total       0.85      0.85      0.85      1690\n",
      "\n"
     ]
    },
    {
     "name": "stderr",
     "output_type": "stream",
     "text": [
      "[Parallel(n_jobs=4)]: Done  42 tasks      | elapsed:    0.0s\n",
      "[Parallel(n_jobs=4)]: Done 100 out of 100 | elapsed:    0.1s finished\n",
      "[Parallel(n_jobs=4)]: Done  42 tasks      | elapsed:    0.0s\n",
      "[Parallel(n_jobs=4)]: Done 100 out of 100 | elapsed:    0.0s finished\n",
      "[Parallel(n_jobs=4)]: Done  42 tasks      | elapsed:    0.0s\n",
      "[Parallel(n_jobs=4)]: Done 100 out of 100 | elapsed:    0.0s finished\n"
     ]
    },
    {
     "name": "stdout",
     "output_type": "stream",
     "text": [
      "[[576 172]\n",
      " [ 80 862]]\n",
      "[ 0  1  2  3  4  5  6  7 12 13 14 15 16 17 18 19 20 21 22 23 24 25 26 27\n",
      " 28 29 30 31 32 33 34 35 36 37 38] [ 8  9 10 11]\n",
      "(8474, 700)\n"
     ]
    },
    {
     "name": "stderr",
     "output_type": "stream",
     "text": [
      "[Parallel(n_jobs=-1)]: Done  42 tasks      | elapsed:    0.5s\n",
      "[Parallel(n_jobs=-1)]: Done 100 out of 100 | elapsed:    1.1s finished\n"
     ]
    },
    {
     "name": "stdout",
     "output_type": "stream",
     "text": [
      "(1247, 700)\n",
      "             precision    recall  f1-score   support\n",
      "\n",
      "          A       0.87      0.73      0.80       762\n",
      "          B       0.66      0.83      0.74       485\n",
      "\n",
      "avg / total       0.79      0.77      0.77      1247\n",
      "\n"
     ]
    },
    {
     "name": "stderr",
     "output_type": "stream",
     "text": [
      "[Parallel(n_jobs=4)]: Done  42 tasks      | elapsed:    0.0s\n",
      "[Parallel(n_jobs=4)]: Done 100 out of 100 | elapsed:    0.1s finished\n",
      "[Parallel(n_jobs=4)]: Done  42 tasks      | elapsed:    0.0s\n",
      "[Parallel(n_jobs=4)]: Done 100 out of 100 | elapsed:    0.0s finished\n",
      "[Parallel(n_jobs=4)]: Done  42 tasks      | elapsed:    0.0s\n",
      "[Parallel(n_jobs=4)]: Done 100 out of 100 | elapsed:    0.0s finished\n"
     ]
    },
    {
     "name": "stdout",
     "output_type": "stream",
     "text": [
      "[[559 203]\n",
      " [ 83 402]]\n",
      "[ 0  1  2  3  4  5  6  7  8  9 10 11 16 17 18 19 20 21 22 23 24 25 26 27\n",
      " 28 29 30 31 32 33 34 35 36 37 38] [12 13 14 15]\n",
      "(8225, 700)\n"
     ]
    },
    {
     "name": "stderr",
     "output_type": "stream",
     "text": [
      "[Parallel(n_jobs=-1)]: Done  42 tasks      | elapsed:    0.4s\n",
      "[Parallel(n_jobs=-1)]: Done 100 out of 100 | elapsed:    1.1s finished\n"
     ]
    },
    {
     "name": "stdout",
     "output_type": "stream",
     "text": [
      "(1496, 700)\n",
      "             precision    recall  f1-score   support\n",
      "\n",
      "          A       0.86      0.80      0.83       854\n",
      "          B       0.75      0.82      0.79       642\n",
      "\n",
      "avg / total       0.81      0.81      0.81      1496\n",
      "\n"
     ]
    },
    {
     "name": "stderr",
     "output_type": "stream",
     "text": [
      "[Parallel(n_jobs=4)]: Done  42 tasks      | elapsed:    0.1s\n",
      "[Parallel(n_jobs=4)]: Done 100 out of 100 | elapsed:    0.1s finished\n",
      "[Parallel(n_jobs=4)]: Done  42 tasks      | elapsed:    0.0s\n",
      "[Parallel(n_jobs=4)]: Done 100 out of 100 | elapsed:    0.0s finished\n",
      "[Parallel(n_jobs=4)]: Done  42 tasks      | elapsed:    0.0s\n",
      "[Parallel(n_jobs=4)]: Done 100 out of 100 | elapsed:    0.0s finished\n"
     ]
    },
    {
     "name": "stdout",
     "output_type": "stream",
     "text": [
      "[[682 172]\n",
      " [113 529]]\n",
      "[ 0  1  2  3  4  5  6  7  8  9 10 11 12 13 14 15 20 21 22 23 24 25 26 27\n",
      " 28 29 30 31 32 33 34 35 36 37 38] [16 17 18 19]\n",
      "(8781, 700)\n"
     ]
    },
    {
     "name": "stderr",
     "output_type": "stream",
     "text": [
      "[Parallel(n_jobs=-1)]: Done  42 tasks      | elapsed:    0.5s\n",
      "[Parallel(n_jobs=-1)]: Done 100 out of 100 | elapsed:    1.2s finished\n"
     ]
    },
    {
     "name": "stdout",
     "output_type": "stream",
     "text": [
      "(940, 700)\n",
      "             precision    recall  f1-score   support\n",
      "\n",
      "          A       0.82      0.75      0.78       487\n",
      "          B       0.75      0.83      0.79       453\n",
      "\n",
      "avg / total       0.79      0.79      0.79       940\n",
      "\n"
     ]
    },
    {
     "name": "stderr",
     "output_type": "stream",
     "text": [
      "[Parallel(n_jobs=4)]: Done  42 tasks      | elapsed:    0.0s\n",
      "[Parallel(n_jobs=4)]: Done 100 out of 100 | elapsed:    0.0s finished\n",
      "[Parallel(n_jobs=4)]: Done  42 tasks      | elapsed:    0.0s\n",
      "[Parallel(n_jobs=4)]: Done 100 out of 100 | elapsed:    0.0s finished\n",
      "[Parallel(n_jobs=4)]: Done  42 tasks      | elapsed:    0.0s\n",
      "[Parallel(n_jobs=4)]: Done 100 out of 100 | elapsed:    0.1s finished\n"
     ]
    },
    {
     "name": "stdout",
     "output_type": "stream",
     "text": [
      "[[365 122]\n",
      " [ 79 374]]\n",
      "[ 0  1  2  3  4  5  6  7  8  9 10 11 12 13 14 15 16 17 18 19 24 25 26 27\n",
      " 28 29 30 31 32 33 34 35 36 37 38] [20 21 22 23]\n",
      "(8938, 700)\n"
     ]
    },
    {
     "name": "stderr",
     "output_type": "stream",
     "text": [
      "[Parallel(n_jobs=-1)]: Done  42 tasks      | elapsed:    0.5s\n",
      "[Parallel(n_jobs=-1)]: Done 100 out of 100 | elapsed:    1.1s finished\n"
     ]
    },
    {
     "name": "stdout",
     "output_type": "stream",
     "text": [
      "(783, 700)\n",
      "             precision    recall  f1-score   support\n",
      "\n",
      "          A       0.70      0.71      0.71       317\n",
      "          B       0.80      0.79      0.80       466\n",
      "\n",
      "avg / total       0.76      0.76      0.76       783\n",
      "\n"
     ]
    },
    {
     "name": "stderr",
     "output_type": "stream",
     "text": [
      "[Parallel(n_jobs=4)]: Done  42 tasks      | elapsed:    0.0s\n",
      "[Parallel(n_jobs=4)]: Done 100 out of 100 | elapsed:    0.0s finished\n",
      "[Parallel(n_jobs=4)]: Done  42 tasks      | elapsed:    0.0s\n",
      "[Parallel(n_jobs=4)]: Done 100 out of 100 | elapsed:    0.0s finished\n",
      "[Parallel(n_jobs=4)]: Done  42 tasks      | elapsed:    0.0s\n",
      "[Parallel(n_jobs=4)]: Done 100 out of 100 | elapsed:    0.0s finished\n"
     ]
    },
    {
     "name": "stdout",
     "output_type": "stream",
     "text": [
      "[[226  91]\n",
      " [ 98 368]]\n",
      "[ 0  1  2  3  4  5  6  7  8  9 10 11 12 13 14 15 16 17 18 19 20 21 22 23\n",
      " 28 29 30 31 32 33 34 35 36 37 38] [24 25 26 27]\n",
      "(8917, 700)\n"
     ]
    },
    {
     "name": "stderr",
     "output_type": "stream",
     "text": [
      "[Parallel(n_jobs=-1)]: Done  42 tasks      | elapsed:    0.6s\n",
      "[Parallel(n_jobs=-1)]: Done 100 out of 100 | elapsed:    1.2s finished\n"
     ]
    },
    {
     "name": "stdout",
     "output_type": "stream",
     "text": [
      "(804, 700)\n",
      "             precision    recall  f1-score   support\n",
      "\n",
      "          A       0.82      0.82      0.82       444\n",
      "          B       0.77      0.77      0.77       360\n",
      "\n",
      "avg / total       0.80      0.80      0.80       804\n",
      "\n"
     ]
    },
    {
     "name": "stderr",
     "output_type": "stream",
     "text": [
      "[Parallel(n_jobs=4)]: Done  42 tasks      | elapsed:    0.0s\n",
      "[Parallel(n_jobs=4)]: Done 100 out of 100 | elapsed:    0.0s finished\n",
      "[Parallel(n_jobs=4)]: Done  42 tasks      | elapsed:    0.0s\n",
      "[Parallel(n_jobs=4)]: Done 100 out of 100 | elapsed:    0.0s finished\n",
      "[Parallel(n_jobs=4)]: Done  42 tasks      | elapsed:    0.0s\n",
      "[Parallel(n_jobs=4)]: Done 100 out of 100 | elapsed:    0.0s finished\n"
     ]
    },
    {
     "name": "stdout",
     "output_type": "stream",
     "text": [
      "[[362  82]\n",
      " [ 82 278]]\n",
      "[ 0  1  2  3  4  5  6  7  8  9 10 11 12 13 14 15 16 17 18 19 20 21 22 23\n",
      " 24 25 26 27 32 33 34 35 36 37 38] [28 29 30 31]\n",
      "(9175, 700)\n"
     ]
    },
    {
     "name": "stderr",
     "output_type": "stream",
     "text": [
      "[Parallel(n_jobs=-1)]: Done  42 tasks      | elapsed:    0.5s\n",
      "[Parallel(n_jobs=-1)]: Done 100 out of 100 | elapsed:    1.2s finished\n"
     ]
    },
    {
     "name": "stdout",
     "output_type": "stream",
     "text": [
      "(546, 700)\n",
      "             precision    recall  f1-score   support\n",
      "\n",
      "          A       0.86      0.82      0.84       241\n",
      "          B       0.86      0.90      0.88       305\n",
      "\n",
      "avg / total       0.86      0.86      0.86       546\n",
      "\n"
     ]
    },
    {
     "name": "stderr",
     "output_type": "stream",
     "text": [
      "[Parallel(n_jobs=4)]: Done  42 tasks      | elapsed:    0.0s\n",
      "[Parallel(n_jobs=4)]: Done 100 out of 100 | elapsed:    0.0s finished\n",
      "[Parallel(n_jobs=4)]: Done  42 tasks      | elapsed:    0.0s\n",
      "[Parallel(n_jobs=4)]: Done 100 out of 100 | elapsed:    0.0s finished\n",
      "[Parallel(n_jobs=4)]: Done  42 tasks      | elapsed:    0.0s\n",
      "[Parallel(n_jobs=4)]: Done 100 out of 100 | elapsed:    0.0s finished\n"
     ]
    },
    {
     "name": "stdout",
     "output_type": "stream",
     "text": [
      "[[198  43]\n",
      " [ 31 274]]\n",
      "[ 0  1  2  3  4  5  6  7  8  9 10 11 12 13 14 15 16 17 18 19 20 21 22 23\n",
      " 24 25 26 27 28 29 30 31 36 37 38] [32 33 34 35]\n",
      "(8927, 700)\n"
     ]
    },
    {
     "name": "stderr",
     "output_type": "stream",
     "text": [
      "[Parallel(n_jobs=-1)]: Done  42 tasks      | elapsed:    0.5s\n",
      "[Parallel(n_jobs=-1)]: Done 100 out of 100 | elapsed:    1.1s finished\n"
     ]
    },
    {
     "name": "stdout",
     "output_type": "stream",
     "text": [
      "(794, 700)\n",
      "             precision    recall  f1-score   support\n",
      "\n",
      "          A       0.78      0.72      0.75       407\n",
      "          B       0.72      0.78      0.75       387\n",
      "\n",
      "avg / total       0.75      0.75      0.75       794\n",
      "\n"
     ]
    },
    {
     "name": "stderr",
     "output_type": "stream",
     "text": [
      "[Parallel(n_jobs=4)]: Done  42 tasks      | elapsed:    0.0s\n",
      "[Parallel(n_jobs=4)]: Done 100 out of 100 | elapsed:    0.0s finished\n",
      "[Parallel(n_jobs=4)]: Done  42 tasks      | elapsed:    0.0s\n",
      "[Parallel(n_jobs=4)]: Done 100 out of 100 | elapsed:    0.0s finished\n",
      "[Parallel(n_jobs=4)]: Done  42 tasks      | elapsed:    0.0s\n",
      "[Parallel(n_jobs=4)]: Done 100 out of 100 | elapsed:    0.0s finished\n"
     ]
    },
    {
     "name": "stdout",
     "output_type": "stream",
     "text": [
      "[[292 115]\n",
      " [ 84 303]]\n",
      "[ 0  1  2  3  4  5  6  7  8  9 10 11 12 13 14 15 16 17 18 19 20 21 22 23\n",
      " 24 25 26 27 28 29 30 31 32 33 34 35] [36 37 38]\n",
      "(9359, 700)\n"
     ]
    },
    {
     "name": "stderr",
     "output_type": "stream",
     "text": [
      "[Parallel(n_jobs=-1)]: Done  42 tasks      | elapsed:    0.5s\n",
      "[Parallel(n_jobs=-1)]: Done 100 out of 100 | elapsed:    1.2s finished\n",
      "[Parallel(n_jobs=4)]: Done  42 tasks      | elapsed:    0.0s\n",
      "[Parallel(n_jobs=4)]: Done 100 out of 100 | elapsed:    0.0s finished\n"
     ]
    },
    {
     "name": "stdout",
     "output_type": "stream",
     "text": [
      "(362, 700)\n",
      "             precision    recall  f1-score   support\n",
      "\n",
      "          A       0.87      0.85      0.86       213\n",
      "          B       0.80      0.82      0.81       149\n",
      "\n",
      "avg / total       0.84      0.84      0.84       362\n",
      "\n",
      "[[182  31]\n",
      " [ 27 122]]\n",
      "0.7934617646019728\n"
     ]
    },
    {
     "name": "stderr",
     "output_type": "stream",
     "text": [
      "[Parallel(n_jobs=4)]: Done  42 tasks      | elapsed:    0.0s\n",
      "[Parallel(n_jobs=4)]: Done 100 out of 100 | elapsed:    0.0s finished\n",
      "[Parallel(n_jobs=4)]: Done  42 tasks      | elapsed:    0.0s\n",
      "[Parallel(n_jobs=4)]: Done 100 out of 100 | elapsed:    0.0s finished\n"
     ]
    }
   ],
   "source": [
    "from collections import Counter\n",
    "from sklearn.model_selection import KFold\n",
    "kf = KFold(n_splits=10)\n",
    "Acc= []\n",
    "for train_index, test_index in kf.split(df_list):\n",
    "    print(train_index,test_index)\n",
    "    X,y=[],[]\n",
    "    X_test,y_test=[],[]  \n",
    "    for i in train_index:\n",
    "        df_a = pd.read_csv(label[i])\n",
    "        df_b = pd.read_csv(cam[i])\n",
    "        df = pd.concat([df_a,df_b],axis=1)\n",
    "        #df = df_list[i]\n",
    "        df['U'] = df['U'].map(lambda x: 0 if x == \"0\" else 1)\n",
    "        df['B'] = df['B'].map(lambda x: 0 if x == \"0\" else 1)\n",
    "        df[\"A\"] = df['A'].map(lambda x: 0 if x == \"0\" else 1)\n",
    "        df['target'] = df['target'].map(lambda x: 0 if x == \"A\" else 1)\n",
    "        df['action'] = df['action'].map({\"None\":0,\"Continue\":2,\"Active\":1,\"Passive\":3,\"Nod\":4})\n",
    "        #dummy_df = pd.get_dummies(df)\n",
    "        train_df = df.copy()\n",
    "        from sklearn import preprocessing\n",
    "\n",
    "        # 各カラムごとに正規化する\n",
    "        \"\"\"for column_name in train_df.columns:    \n",
    "            # actionカラムは正規化しない\n",
    "            if column_name in ['action',\"target\",\"U\",\"A\",\"B\",\"utter_A\",\"utter_B\",\"utter_R\"]:\n",
    "                continue\n",
    "\n",
    "            # 指定されたカラムを抽出\n",
    "            train_column = train_df[column_name]\n",
    "            #test_column = test_df[column_name]\n",
    "\n",
    "            # trainを用いて平均と分散を計算する\n",
    "            scaler = preprocessing.StandardScaler().fit(train_column.values.reshape(-1, 1))\n",
    "            #  正規化\n",
    "            train_df.loc[:, column_name] = scaler.transform(train_column.values.reshape(-1, 1))\n",
    "            #test_df.loc[:, column_name] = scaler.transform(test_column.values.reshape(-1, 1))\"\"\"\n",
    "        import numpy as np\n",
    "        X_train = train_df.drop(['action', 'target',\"U\"], axis=1).values\n",
    "        y_train = train_df['target'].values\n",
    "        frame = 5\n",
    "        for i in range(len(X_train)-frame):\n",
    "            #if y_train[i+frame]==2:continue\n",
    "            X.append(X_train[i:i+frame])\n",
    "            y.append(y_train[i+frame])\n",
    "\n",
    "    X = np.array(X)\n",
    "    X=X.reshape(len(X),-1)\n",
    "    print(X.shape)\n",
    "    X = X.tolist()\n",
    "    #for i in range(len(X)-1,-1,-1):\n",
    "    #    if y[i] != 2: continue\n",
    "    #    del X[i]\n",
    "    #    del y[i]\n",
    "    #print(y.count(2))\n",
    "\n",
    "    from sklearn.ensemble import RandomForestClassifier\n",
    "    rf = RandomForestClassifier(class_weight=\"balanced\",max_depth=2, n_estimators=100, n_jobs=-1, verbose=1)\n",
    "    rf.fit(X, y)\n",
    "    #class_weight=\"balanced\",\n",
    "\n",
    "    \n",
    "    #for df in df_list[-5:]:\n",
    "    for i in test_index:\n",
    "        df_a = pd.read_csv(label[i])\n",
    "        df_b = pd.read_csv(cam[i])\n",
    "        df = pd.concat([df_a,df_b],axis=1)\n",
    "        #df = df_list[i]\n",
    "        df['U'] = df['U'].map(lambda x: 0 if x == \"0\" else 1)\n",
    "        df['B'] = df['B'].map(lambda x: 0 if x == \"0\" else 1)\n",
    "        df[\"A\"] = df['A'].map(lambda x: 0 if x == \"0\" else 1)\n",
    "        df['target'] = df['target'].map(lambda x: 0 if x == \"A\" else 1)\n",
    "        df['action'] = df['action'].map({\"None\":0,\"Continue\":2,\"Active\":1,\"Passive\":3,\"Nod\":4})\n",
    "        #dummy_df = pd.get_dummies(df)\n",
    "        test_df = df.copy()\n",
    "        from sklearn import preprocessing\n",
    "\n",
    "        # 各カラムごとに正規化する\n",
    "        \"\"\"for column_name in train_df.columns:    \n",
    "            # actionカラムは正規化しない\n",
    "            if column_name in ['action',\"target\",\"U\",\"A\",\"B\",\"utter_A\",\"utter_B\",\"utter_R\"]:\n",
    "                continue\n",
    "\n",
    "            # 指定されたカラムを抽出\n",
    "            train_column = train_df[column_name]\n",
    "            #test_column = test_df[column_name]\n",
    "\n",
    "            # trainを用いて平均と分散を計算する\n",
    "            scaler = preprocessing.StandardScaler().fit(train_column.values.reshape(-1, 1))\n",
    "            #  正規化\n",
    "            train_df.loc[:, column_name] = scaler.transform(train_column.values.reshape(-1, 1))\n",
    "            #test_df.loc[:, column_name] = scaler.transform(test_column.values.reshape(-1, 1))\"\"\"\n",
    "        import numpy as np\n",
    "        X_train = test_df.drop(['action', 'target',\"U\"], axis=1).values\n",
    "        y_train = test_df['target'].values\n",
    "        #print(len(X_train))\n",
    "\n",
    "        frame = 5\n",
    "        #print(X_train[0])\n",
    "        for i in range(len(X_train)-frame):\n",
    "            #if y_train[i+frame]==2:continue\n",
    "            X_test.append(X_train[i:i+frame])\n",
    "            y_test.append(y_train[i+frame])\n",
    "\n",
    "    X_test = np.array(X_test)\n",
    "    X_test=X_test.reshape(len(X_test),-1)\n",
    "    print(X_test.shape)\n",
    "    X_test = X_test.tolist()\n",
    "    #for i in range(len(X_test)-1,-1,-1):\n",
    "    #    if y_test[i] != 2: continue\n",
    "    #    del X_test[i]\n",
    "    #    del y_test[i]\n",
    "    #print(y_test.count(2))\n",
    "\n",
    "    from sklearn.metrics import classification_report, confusion_matrix, accuracy_score\n",
    "    #names = [\"not Action\",\"Active\",\"Continue\",\"Passive\",\"Nod\"]\n",
    "    names = [\"A\",\"B\"]\n",
    "    print(classification_report(y_test, rf.predict(X_test),target_names=names))\n",
    "    from sklearn.metrics import confusion_matrix\n",
    "    #print(log_loss(y_test, rf.predict_proba(X_test)))\n",
    "    Acc.append(accuracy_score(y_test,rf.predict(X_test)))\n",
    "    print(confusion_matrix(y_test,rf.predict(X_test)))\n",
    "print(np.mean(np.array(Acc)))"
   ]
  },
  {
   "cell_type": "code",
   "execution_count": 84,
   "metadata": {},
   "outputs": [],
   "source": [
    "#df = df_list[0]\n",
    "#df['U'] = df['U'].map(lambda x: 0 if x == \"0\" else 1)\n",
    "#df['B'] = df['B'].map(lambda x: 0 if x == \"0\" else 1)\n",
    "#df[\"A\"] = df['A'].map(lambda x: 0 if x == \"0\" else 1)\n",
    "#df['target'] = df['target'].map(lambda x: 0 if x == \"A\" else 1)\n",
    "#df['action'] = df['action'].map({\"None\":0,\"Continue\":2,\"Active\":1,\"Passive\":3,\"Nod\":4})\n",
    "#dummy_df = pd.get_dummies(df)\n"
   ]
  },
  {
   "cell_type": "code",
   "execution_count": null,
   "metadata": {},
   "outputs": [],
   "source": []
  }
 ],
 "metadata": {
  "kernelspec": {
   "display_name": "Python 3",
   "language": "python",
   "name": "python3"
  },
  "language_info": {
   "codemirror_mode": {
    "name": "ipython",
    "version": 3
   },
   "file_extension": ".py",
   "mimetype": "text/x-python",
   "name": "python",
   "nbconvert_exporter": "python",
   "pygments_lexer": "ipython3",
   "version": "3.6.4"
  }
 },
 "nbformat": 4,
 "nbformat_minor": 2
}
